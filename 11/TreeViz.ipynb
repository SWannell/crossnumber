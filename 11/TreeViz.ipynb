{
 "cells": [
  {
   "cell_type": "markdown",
   "metadata": {},
   "source": [
    "# Making a tree diagram\n",
    "\n",
    "[NetworkX doesn't make interactive graphs by default](https://stackoverflow.com/questions/31580491/python-2-7-networkx-make-it-interactive), but things can be exported to JSON or GEXF and then visualised interactively => try with NetworkX. Could also be possible to [try Plotly](https://plotly.com/python/tree-plots/), but want to ideally avoid a new stack.\n",
    "\n",
    "**Plot types**:\n",
    "\n",
    "- Hierarchical options: radial, tree, etc. Hierarchical => Want something hierarchical, not force directed, as then each hierarchy level can correspond to a tracking bucket.\n",
    " - [NetworkX hierarchical ex](https://stackoverflow.com/a/29597209)\n",
    "- Force directed (the classic cloud network, with node proximity determined by weights) - more pretty than functional? Could work as each node being a full tracked link, with node weights determined by parameter similarity (e.g. if mediums are equal, or some metric of similarity)\n",
    " - [NetworkX and D3 example](https://andrewmellor.co.uk/blog/articles/2014/12/14/d3-networks/) - shows how this isn't super useful? What would the point cloud tell me\n",
    " - [Use Python & Pandas to Create a D3 Force Directed Network Diagram](http://www.austintaylor.io/d3/python/pandas/2016/02/01/create-d3-chart-python-force-directed/)\n",
    " - [Example using Python](https://towardsdatascience.com/visualising-graph-data-with-python-igraph-b3cc81a495cf)\n",
    " - [How to using CoffeeScript and R](https://flowingdata.com/2012/08/02/how-to-make-an-interactive-network-visualization/)\n",
    "\n",
    "### An approach\n",
    "\n",
    "1. Make a hierarchical graph\n",
    "2. Try and make it interactive\n",
    "3. Find a way to compile [the link builder](https://britishredcrosssociety.github.io/tracked-link-builder/) into a JSON\n",
    "4. Merge"
   ]
  },
  {
   "cell_type": "markdown",
   "metadata": {},
   "source": [
    "### Step 1: any hierarchical graph\n",
    "\n",
    "Based on [this SO example](https://stackoverflow.com/questions/11479624/is-there-a-way-to-guarantee-hierarchical-output-from-networkx).\n",
    "\n",
    "Dependencies:\n",
    "\n",
    "- [installing custom pygraphviz](https://stackoverflow.com/a/55202558) (as the [default](https://anaconda.org/anaconda/pygraphviz) isn't for Windows)\n",
    "- [running 'dot -c' in anaconda prompt](https://stackoverflow.com/a/60147201)"
   ]
  },
  {
   "cell_type": "code",
   "execution_count": 3,
   "metadata": {},
   "outputs": [
    {
     "data": {
      "image/png": "[encoded data removed]",
      "text/plain": [
       "<Figure size 432x288 with 1 Axes>"
      ]
     },
     "metadata": {},
     "output_type": "display_data"
    }
   ],
   "source": [
    "import networkx as nx\n",
    "from networkx.drawing.nx_agraph import write_dot, graphviz_layout\n",
    "import matplotlib.pyplot as plt\n",
    "G = nx.DiGraph()\n",
    "\n",
    "G.add_node(\"ROOT\")\n",
    "\n",
    "for i in range(5):\n",
    "    G.add_node(\"Child_%i\" % i)\n",
    "    G.add_node(\"Grandchild_%i\" % i)\n",
    "    G.add_node(\"Greatgrandchild_%i\" % i)\n",
    "\n",
    "    G.add_edge(\"ROOT\", \"Child_%i\" % i)\n",
    "    G.add_edge(\"Child_%i\" % i, \"Grandchild_%i\" % i)\n",
    "    G.add_edge(\"Grandchild_%i\" % i, \"Greatgrandchild_%i\" % i)\n",
    "\n",
    "# write dot file to use with graphviz\n",
    "# run \"dot -Tpng test.dot >test.png\"\n",
    "write_dot(G,'test.dot')\n",
    "\n",
    "# same layout using matplotlib with no labels\n",
    "plt.title('draw_networkx')\n",
    "pos =graphviz_layout(G, prog='dot')\n",
    "nx.draw(G, pos, with_labels=False, arrows=True)\n",
    "plt.savefig('nx_test.png')"
   ]
  }
 ],
 "metadata": {
  "kernelspec": {
   "display_name": "Python 3",
   "language": "python",
   "name": "python3"
  },
  "language_info": {
   "codemirror_mode": {
    "name": "ipython",
    "version": 3
   },
   "file_extension": ".py",
   "mimetype": "text/x-python",
   "name": "python",
   "nbconvert_exporter": "python",
   "pygments_lexer": "ipython3",
   "version": "3.7.1"
  }
 },
 "nbformat": 4,
 "nbformat_minor": 2
}
